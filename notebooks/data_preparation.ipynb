{
 "cells": [
  {
   "cell_type": "markdown",
   "metadata": {},
   "source": [
    "## USEFUL PACKAGES"
   ]
  },
  {
   "cell_type": "code",
   "execution_count": 1,
   "metadata": {},
   "outputs": [],
   "source": [
    "import pandas as pd\n",
    "import numpy as np\n",
    "import xml.etree.ElementTree as ET\n",
    "import os\n",
    "import matplotlib.pyplot as plt\n",
    "import emoji\n",
    "import re\n",
    "from itertools import cycle\n",
    "%matplotlib inline\n",
    "import seaborn as sns\n",
    "import plotly.express as px\n",
    "import warnings\n",
    "# Para tratamientos de texto\n",
    "import nltk\n",
    "from nltk.corpus import stopwords\n",
    "from nltk.stem.snowball import SnowballStemmer\n",
    "import spacy\n",
    "import es_core_news_md\n",
    "from spellchecker import SpellChecker\n",
    "\n",
    "# Modelos Scikit-learn\n",
    "from sklearn.utils import shuffle\n",
    "from sklearn.model_selection import GridSearchCV\n",
    "from sklearn.pipeline import Pipeline\n",
    "from sklearn.preprocessing import StandardScaler,label_binarize\n",
    "from sklearn.linear_model import LogisticRegression\n",
    "from sklearn.svm import LinearSVC, SVC\n",
    "from sklearn.naive_bayes import GaussianNB\n",
    "from sklearn.ensemble import RandomForestClassifier,VotingClassifier,HistGradientBoostingClassifier,GradientBoostingClassifier,StackingClassifier\n",
    "\n",
    "# Evaluacion\n",
    "from sklearn.metrics import confusion_matrix, classification_report, accuracy_score,balanced_accuracy_score,precision_score,f1_score,average_precision_score\n",
    "from sklearn.metrics import roc_curve,auc, roc_auc_score\n",
    "from sklearn.metrics import RocCurveDisplay\n",
    "\n",
    "\n",
    "\n",
    "#---------------------------------------------------------------------------------#\n",
    "warnings.filterwarnings('ignore')"
   ]
  },
  {
   "cell_type": "code",
   "execution_count": 2,
   "metadata": {},
   "outputs": [],
   "source": [
    "def read_dataset(path):\n",
    "    tree = ET.parse(path)\n",
    "    root = tree.getroot()\n",
    "    value = []\n",
    "    for sentiment in root.iter('sentiment'):\n",
    "        for polarity in sentiment.iter('polarity'):\n",
    "            for deep_tag in polarity:\n",
    "            #print(deep_tag.text)\n",
    "                value.append(deep_tag.text)\n",
    "    df = pd.read_xml(path)\n",
    "    df['sentiment'] = value\n",
    "    return df"
   ]
  },
  {
   "attachments": {},
   "cell_type": "markdown",
   "metadata": {},
   "source": [
    "## Corpus 2018"
   ]
  },
  {
   "cell_type": "code",
   "execution_count": 3,
   "metadata": {},
   "outputs": [],
   "source": [
    "df_train_2018 = pd.DataFrame()\n",
    "for filename in os.listdir('../data2018/train/'):\n",
    "    df_initial_2018 = read_dataset('../data2018/train/'+filename)\n",
    "    df_train_2018 = pd.concat([df_train_2018,df_initial_2018])\n",
    "df_train_2018 = df_train_2018[['tweetid', 'content', 'sentiment']]\n",
    "df_train_2018.columns = ['id', 'tweet', 'classification']"
   ]
  },
  {
   "attachments": {},
   "cell_type": "markdown",
   "metadata": {},
   "source": [
    "## CORPUS 2019"
   ]
  },
  {
   "cell_type": "code",
   "execution_count": 4,
   "metadata": {},
   "outputs": [],
   "source": [
    "df_train_2019 = pd.DataFrame()\n",
    "for filename in os.listdir('../data2019/train/'):\n",
    "    df_initial_2019 = read_dataset('../data2019/train/'+filename)\n",
    "    df_train_2019 = pd.concat([df_train_2019,df_initial_2019])\n",
    "df_train_2019 = df_train_2019[['tweetid', 'content', 'sentiment']]\n",
    "df_train_2019.columns = ['id', 'tweet', 'classification']"
   ]
  },
  {
   "cell_type": "markdown",
   "metadata": {},
   "source": [
    "## DATASET 2020"
   ]
  },
  {
   "cell_type": "code",
   "execution_count": 5,
   "metadata": {},
   "outputs": [
    {
     "data": {
      "text/html": [
       "<div>\n",
       "<style scoped>\n",
       "    .dataframe tbody tr th:only-of-type {\n",
       "        vertical-align: middle;\n",
       "    }\n",
       "\n",
       "    .dataframe tbody tr th {\n",
       "        vertical-align: top;\n",
       "    }\n",
       "\n",
       "    .dataframe thead th {\n",
       "        text-align: right;\n",
       "    }\n",
       "</style>\n",
       "<table border=\"1\" class=\"dataframe\">\n",
       "  <thead>\n",
       "    <tr style=\"text-align: right;\">\n",
       "      <th></th>\n",
       "      <th>id</th>\n",
       "      <th>tweet</th>\n",
       "      <th>classification</th>\n",
       "    </tr>\n",
       "  </thead>\n",
       "  <tbody>\n",
       "    <tr>\n",
       "      <th>0</th>\n",
       "      <td>809927403615256576</td>\n",
       "      <td>En definitiva! Me quedé sin campo para ir a Ta...</td>\n",
       "      <td>0</td>\n",
       "    </tr>\n",
       "  </tbody>\n",
       "</table>\n",
       "</div>"
      ],
      "text/plain": [
       "                   id                                              tweet  \\\n",
       "0  809927403615256576  En definitiva! Me quedé sin campo para ir a Ta...   \n",
       "\n",
       "   classification  \n",
       "0               0  "
      ]
     },
     "execution_count": 5,
     "metadata": {},
     "output_type": "execute_result"
    }
   ],
   "source": [
    "df_initial_1 = pd.DataFrame()\n",
    "for filename in os.listdir('../data/train/'):\n",
    "    df_country = pd.read_csv('../data/train/'+ filename, sep='\\t', names=['id','tweet','classification'])\n",
    "    #df_country['fuente'] = filename+'train'\n",
    "    df_initial_1 = pd.concat([df_initial_1, df_country])\n",
    "df_initial_2 = pd.DataFrame()\n",
    "for filename in os.listdir('../data/dev/'):\n",
    "    df_country = pd.read_csv('../data/dev/'+ filename, sep='\\t', names=['id','tweet','classification'])\n",
    "    #df_country['fuente'] = filename+'dev'\n",
    "    df_initial_2 = pd.concat([df_initial_2, df_country])\n",
    "\n",
    "df_initial = pd.concat([df_initial_1,df_initial_2])\n",
    "df_initial = df_initial.drop_duplicates(subset='id')\n",
    "df_initial = df_initial.replace({'classification':{'N':0,'NEU':1,'P':2}})\n",
    "df_initial.head(1)"
   ]
  },
  {
   "cell_type": "code",
   "execution_count": 6,
   "metadata": {},
   "outputs": [],
   "source": [
    "df_final_test = pd.DataFrame()\n",
    "for filename in os.listdir('../data/test/'):\n",
    "    df_country_test = pd.read_csv('../data/test/'+ filename, sep='\\t', names=['id','tweet'])\n",
    "    #df_country_test['fuente'] = filename+'test'\n",
    "    df_final_test = pd.concat([df_final_test, df_country_test])\n",
    "\n",
    "df_final_sentiment = pd.DataFrame()\n",
    "for filename in os.listdir('../data/testgold/'):\n",
    "    df_country_testgold = pd.read_csv('../data/testgold/'+ filename, sep='\\t', names=['id','classification'])\n",
    "    #df_country_testgold['fuente'] = filename+'test'\n",
    "    df_final_sentiment = pd.concat([df_final_sentiment, df_country_testgold])\n",
    "\n",
    "df_final = df_final_test.merge(df_final_sentiment, how = 'left', on = 'id')   \n",
    "df_final = df_final.replace({'classification':{'N':0,'NEU':1,'P':2}})\n",
    "df_final = df_final.drop_duplicates(subset='id')\n"
   ]
  },
  {
   "cell_type": "code",
   "execution_count": 7,
   "metadata": {},
   "outputs": [
    {
     "data": {
      "text/html": [
       "<div>\n",
       "<style scoped>\n",
       "    .dataframe tbody tr th:only-of-type {\n",
       "        vertical-align: middle;\n",
       "    }\n",
       "\n",
       "    .dataframe tbody tr th {\n",
       "        vertical-align: top;\n",
       "    }\n",
       "\n",
       "    .dataframe thead th {\n",
       "        text-align: right;\n",
       "    }\n",
       "</style>\n",
       "<table border=\"1\" class=\"dataframe\">\n",
       "  <thead>\n",
       "    <tr style=\"text-align: right;\">\n",
       "      <th></th>\n",
       "      <th>id</th>\n",
       "      <th>tweet</th>\n",
       "    </tr>\n",
       "    <tr>\n",
       "      <th>classification</th>\n",
       "      <th></th>\n",
       "      <th></th>\n",
       "    </tr>\n",
       "  </thead>\n",
       "  <tbody>\n",
       "    <tr>\n",
       "      <th>0</th>\n",
       "      <td>2939</td>\n",
       "      <td>2939</td>\n",
       "    </tr>\n",
       "    <tr>\n",
       "      <th>1</th>\n",
       "      <td>1966</td>\n",
       "      <td>1966</td>\n",
       "    </tr>\n",
       "    <tr>\n",
       "      <th>2</th>\n",
       "      <td>2359</td>\n",
       "      <td>2359</td>\n",
       "    </tr>\n",
       "  </tbody>\n",
       "</table>\n",
       "</div>"
      ],
      "text/plain": [
       "                  id  tweet\n",
       "classification             \n",
       "0               2939   2939\n",
       "1               1966   1966\n",
       "2               2359   2359"
      ]
     },
     "execution_count": 7,
     "metadata": {},
     "output_type": "execute_result"
    }
   ],
   "source": [
    "df_final.groupby('classification').count()"
   ]
  },
  {
   "cell_type": "code",
   "execution_count": 8,
   "metadata": {},
   "outputs": [
    {
     "data": {
      "text/plain": [
       "(7264, 3)"
      ]
     },
     "execution_count": 8,
     "metadata": {},
     "output_type": "execute_result"
    }
   ],
   "source": [
    "df_final.shape"
   ]
  },
  {
   "cell_type": "code",
   "execution_count": 9,
   "metadata": {},
   "outputs": [
    {
     "data": {
      "text/html": [
       "<div>\n",
       "<style scoped>\n",
       "    .dataframe tbody tr th:only-of-type {\n",
       "        vertical-align: middle;\n",
       "    }\n",
       "\n",
       "    .dataframe tbody tr th {\n",
       "        vertical-align: top;\n",
       "    }\n",
       "\n",
       "    .dataframe thead th {\n",
       "        text-align: right;\n",
       "    }\n",
       "</style>\n",
       "<table border=\"1\" class=\"dataframe\">\n",
       "  <thead>\n",
       "    <tr style=\"text-align: right;\">\n",
       "      <th></th>\n",
       "      <th>id</th>\n",
       "      <th>tweet</th>\n",
       "    </tr>\n",
       "    <tr>\n",
       "      <th>classification</th>\n",
       "      <th></th>\n",
       "      <th></th>\n",
       "    </tr>\n",
       "  </thead>\n",
       "  <tbody>\n",
       "    <tr>\n",
       "      <th>0</th>\n",
       "      <td>2835</td>\n",
       "      <td>2835</td>\n",
       "    </tr>\n",
       "    <tr>\n",
       "      <th>1</th>\n",
       "      <td>2315</td>\n",
       "      <td>2315</td>\n",
       "    </tr>\n",
       "    <tr>\n",
       "      <th>2</th>\n",
       "      <td>2093</td>\n",
       "      <td>2093</td>\n",
       "    </tr>\n",
       "  </tbody>\n",
       "</table>\n",
       "</div>"
      ],
      "text/plain": [
       "                  id  tweet\n",
       "classification             \n",
       "0               2835   2835\n",
       "1               2315   2315\n",
       "2               2093   2093"
      ]
     },
     "execution_count": 9,
     "metadata": {},
     "output_type": "execute_result"
    }
   ],
   "source": [
    "df_initial.groupby('classification').count()"
   ]
  },
  {
   "cell_type": "code",
   "execution_count": 10,
   "metadata": {},
   "outputs": [
    {
     "name": "stdout",
     "output_type": "stream",
     "text": [
      "0    2835\n",
      "1    2315\n",
      "2    2093\n",
      "Name: classification, dtype: int64\n",
      "Tamaño del dataset: (7243, 3)\n"
     ]
    },
    {
     "data": {
      "image/png": "[encoded data removed]",
      "text/plain": [
       "<Figure size 500x500 with 1 Axes>"
      ]
     },
     "metadata": {},
     "output_type": "display_data"
    }
   ],
   "source": [
    "# Comprobamos distribución de la etiqueta 'classification'\n",
    "sns.displot(df_initial.classification)\n",
    "plt.title('Volumen de tweets por etiqueta');\n",
    "print(df_initial.classification.value_counts())\n",
    "print('Tamaño del dataset:', df_initial.shape)"
   ]
  },
  {
   "cell_type": "code",
   "execution_count": 11,
   "metadata": {},
   "outputs": [
    {
     "data": {
      "text/plain": [
       "(0.0, 40.0)"
      ]
     },
     "execution_count": 11,
     "metadata": {},
     "output_type": "execute_result"
    },
    {
     "data": {
      "image/png": "[encoded data removed]",
      "text/plain": [
       "<Figure size 500x500 with 1 Axes>"
      ]
     },
     "metadata": {},
     "output_type": "display_data"
    }
   ],
   "source": [
    "def count_words(df):\n",
    "    count = 0\n",
    "    for word in df.split():\n",
    "        count += 1\n",
    "    return count\n",
    "#------------------------------------------------------------------------------------#\n",
    "## recortar el eje x hasta 100 para mejorar la visualizacion.\n",
    "ax = sns.displot(df_initial['tweet'].apply(count_words))\n",
    "plt.xlim(0,40)"
   ]
  },
  {
   "cell_type": "markdown",
   "metadata": {},
   "source": [
    "### Funciones para tratamiento de datos\n",
    "\n",
    "\n",
    "* Debemos tener que estos tweets no están normalizados y por lo tanto debemos diseñar funciones que no permitan normalizar las expreciones escritas, quitar, emojis y corregir algunas otras cosas para no tener palabras que aunque signifiquen lo mismo parezcan diferentes."
   ]
  },
  {
   "cell_type": "code",
   "execution_count": 12,
   "metadata": {},
   "outputs": [],
   "source": [
    "# Eliminamos signos de puntuación y sustituimos por espacios en blanco\n",
    "\n",
    "def remove_punctuation_space(df):\n",
    "    PUNCTUATION = re.compile(\"\"\"(\\-)|(\\,)|(\\..)|(\\...)|(\\....)|(\\.....)|(\\......)|(\\.......)\"\"\")\n",
    "    \n",
    "    return \" \".join([PUNCTUATION.sub(\" \", word.lower()) for word in df.split()])"
   ]
  },
  {
   "cell_type": "code",
   "execution_count": 13,
   "metadata": {},
   "outputs": [],
   "source": [
    "# Eliminamos signos de puntuación sin reemplazo\n",
    "\n",
    "def remove_punctuation(df):\n",
    "    PUNCTUATION = re.compile(\"\"\"(\\.)|(\\;)|(\\:)|(\\!)|(\\?)|(\\¡)|(\\¿)| \\\n",
    "    (\\\")|(\\()|(\\))|(\\[)|(\\])|(\\d+)|(\\/)|(\\“)|(\\”)|(\\')|(\\-)|(\\\")|(\\*)\"\"\")\n",
    "    \n",
    "    return \" \".join([PUNCTUATION.sub(\"\", word.lower()) for word in df.split()])"
   ]
  },
  {
   "cell_type": "code",
   "execution_count": 14,
   "metadata": {},
   "outputs": [],
   "source": [
    "# Corregimos abreviaciones\n",
    "def fix_abbr(x):\n",
    "    if type(x) == list:\n",
    "        words = x\n",
    "    elif type(x) == str:\n",
    "        words = x.split()\n",
    "    else:\n",
    "        raise TypeError('El formato no es válido, debe ser lista o str')\n",
    "\n",
    "    abbrevs = {'d': 'de',\n",
    "               'x': 'por',\n",
    "               'xa': 'para',\n",
    "               'as': 'has',\n",
    "               'q': 'que',\n",
    "               'k': 'que',\n",
    "               'dl': 'del',\n",
    "               'xq': 'porqué',\n",
    "               'dr': 'doctor',\n",
    "               'dra': 'doctora',\n",
    "               'sr': 'señor',\n",
    "               'sra': 'señora',\n",
    "               'm': 'me'}\n",
    "    return \" \".join([abbrevs[word] if word in abbrevs.keys() else word for word in words])"
   ]
  },
  {
   "cell_type": "code",
   "execution_count": 15,
   "metadata": {},
   "outputs": [],
   "source": [
    "\n",
    "# Sustituimos links por {link}\n",
    "def remove_links(df):\n",
    "    return \" \".join(['{link}' if ('http') in word else word for word in df.split()])"
   ]
  },
  {
   "cell_type": "code",
   "execution_count": 16,
   "metadata": {},
   "outputs": [],
   "source": [
    "# Eliminamos vocales repetidas\n",
    "    \n",
    "def remove_repeated_vocals(df):\n",
    "    \n",
    "    list_new_word = []\n",
    "\n",
    "    for word in df.split(): #separamos en palabras\n",
    "        new_word = []\n",
    "        pos = 0\n",
    "        \n",
    "        for letra in word: #separamos cada palabra en letras\n",
    "            #print(word, letra, pos, '-', new_word)\n",
    "            if pos>0:\n",
    "                if letra in ('a', 'e', 'i', 'o', 'u') and letra == new_word[pos-1]:\n",
    "                    None\n",
    "                else:\n",
    "                    new_word.append(letra)\n",
    "                    pos +=1\n",
    "            else:\n",
    "                new_word.append(letra)\n",
    "            \n",
    "                pos += 1\n",
    "        else:\n",
    "            list_new_word.append(\"\".join(new_word))\n",
    "                \n",
    "    return \" \".join(list_new_word)"
   ]
  },
  {
   "cell_type": "code",
   "execution_count": 17,
   "metadata": {},
   "outputs": [],
   "source": [
    "# Normalizamos risas 'jajaja', 'jejeje', 'jojojo'\n",
    "    \n",
    "def normalize_laughts(df):\n",
    "    \n",
    "    list_new_words = []\n",
    "    for word in df.split(): #separamos en palabras\n",
    "        count = 0\n",
    "        vocals_dicc = {'a': 0, 'e': 0, 'i': 0, 'o':0, 'u':0}\n",
    "        \n",
    "        for letra in word:\n",
    "            #print(word)\n",
    "            if letra == 'j':\n",
    "                count+=1\n",
    "            if letra in vocals_dicc.keys():\n",
    "                vocals_dicc[letra] += 1\n",
    "        else:\n",
    "            if count>3:\n",
    "                dicc_risa = {'a': 'jaja', 'e': 'jeje', 'i': 'jiji', 'o': 'jojo', 'u': 'juju'}\n",
    "                risa_type = max(vocals_dicc, key= lambda x: vocals_dicc[x]) #Indica si es a,e,i,o,u\n",
    "                list_new_words.append(dicc_risa[risa_type])\n",
    "            else:\n",
    "                list_new_words.append(word)\n",
    "    \n",
    "    return \" \".join(list_new_words)"
   ]
  },
  {
   "cell_type": "code",
   "execution_count": 18,
   "metadata": {},
   "outputs": [],
   "source": [
    "# Sustituimos hashtag por {hash}\n",
    "def remove_hashtags(df):\n",
    "    return \" \".join(['{hash}' if word.startswith('#') else word for word in df.split()])"
   ]
  },
  {
   "cell_type": "code",
   "execution_count": 19,
   "metadata": {},
   "outputs": [],
   "source": [
    "# Sustituimos menciones por {mencion}\n",
    "def remove_mentions(df):\n",
    "    return \" \".join(['{menc}' if word.startswith('“@') or word.startswith('@') else word for word in df.split()])"
   ]
  },
  {
   "cell_type": "code",
   "execution_count": 20,
   "metadata": {},
   "outputs": [],
   "source": [
    "# Función para identificar los 'emojis' tradicionales\n",
    "\n",
    "def transform_icons(df):\n",
    "    word_list = []\n",
    "    pos_emojis = [':)', ':D', ':))', ':)))', 'xD', 'xd', 'XD']\n",
    "    neg_emojis = [':(', \":'(\", '>:(', ':,(', \":((\"]\n",
    "    for word in df.split():\n",
    "        if word in neg_emojis:\n",
    "            word = '{emoji_neg}'\n",
    "            word_list.append(word)\n",
    "        elif word in pos_emojis:\n",
    "            word = '{emoji_pos}'\n",
    "            word_list.append(word)\n",
    "        elif ':O' in word:\n",
    "            word = '{emoji_neu}'\n",
    "            word_list.append(word)\n",
    "        else:\n",
    "            word_list.append(word)\n",
    "    return \" \".join(word_list)"
   ]
  },
  {
   "cell_type": "code",
   "execution_count": 21,
   "metadata": {},
   "outputs": [],
   "source": [
    "# Separamos emojis que vengan juntos\n",
    "def sep_emojis(df):\n",
    "    words_list = []\n",
    "    for token in df.split():\n",
    "        new_word = []\n",
    "        for letra in token:\n",
    "            if letra in emoji.UNICODE_EMOJI['es']:\n",
    "                words_list.append(letra)\n",
    "            else:\n",
    "                new_word.append(letra)\n",
    "        else:\n",
    "            words_list.append(\"\".join(new_word))\n",
    "\n",
    "    return (\" \".join(word for word in words_list if word != ''))"
   ]
  },
  {
   "cell_type": "code",
   "execution_count": 22,
   "metadata": {},
   "outputs": [
    {
     "name": "stderr",
     "output_type": "stream",
     "text": [
      "[nltk_data] Downloading package stopwords to\n",
      "[nltk_data]     C:\\Users\\smath\\AppData\\Roaming\\nltk_data...\n",
      "[nltk_data]   Package stopwords is already up-to-date!\n"
     ]
    }
   ],
   "source": [
    "# Eliminamos stopwords\n",
    "nltk.download('stopwords')\n",
    "spanish_stopwords = stopwords.words('spanish')\n",
    "non_stopwords = ['no', 'ni', 'poco', 'mucho', 'nada', 'muchos', 'muy', 'nosotros',\n",
    "                 'nosotras', 'vosotros', 'vosotras', 'ellos', 'ellas', 'ella', 'él', 'tu', 'tú', 'yo',\n",
    "                 'pero', 'hasta', 'contra', 'por']\n",
    "spanish_stopwords = [word for word in stopwords.words('spanish') if word not in non_stopwords]\n",
    "\n",
    "def remove_stopwords(df):\n",
    "    return \" \".join([word for word in df.split() if word not in spanish_stopwords])"
   ]
  },
  {
   "cell_type": "code",
   "execution_count": 23,
   "metadata": {},
   "outputs": [],
   "source": [
    "# Función para stemizar\n",
    "def stem(df):\n",
    "    stemmer = SnowballStemmer('spanish')\n",
    "    return \" \".join([stemmer.stem(word) for word in df.split()])"
   ]
  },
  {
   "cell_type": "code",
   "execution_count": 24,
   "metadata": {},
   "outputs": [],
   "source": [
    "# Función para lematizar\n",
    "# Creamos el objeto\n",
    "spacy.prefer_gpu() # or spacy.require_gpu()\n",
    "nlp = spacy.load(\"es_core_news_md\")\n",
    "\n",
    "\n",
    "# Definimos función\n",
    "def lemmatizer(df):\n",
    "    word_list = []\n",
    "    doc = nlp(df)\n",
    "    for tok in doc:\n",
    "        if str(tok) == 'menc':\n",
    "              word_list.append('{menc}')\n",
    "        elif str(tok) == 'hash':\n",
    "              word_list.append('{hash}')\n",
    "        elif str(tok) == 'link':\n",
    "              word_list.append('{link}')\n",
    "        elif str(tok) == 'emoji_pos':\n",
    "              word_list.append('{emoji_pos}')\n",
    "        elif str(tok) == 'emoji_neu':\n",
    "              word_list.append('{emoji_neu}')\n",
    "        elif str(tok) == 'emoji_neg':\n",
    "              word_list.append('{emoji_neg}')\n",
    "        elif str(tok) == 'eur':\n",
    "              word_list.append('{eur}')\n",
    "        else:\n",
    "            word_list.append(tok.lemma_.lower())\n",
    "\n",
    "    return \" \".join([word for word in word_list if (word != '{') and (word!='}')])  "
   ]
  },
  {
   "cell_type": "code",
   "execution_count": 25,
   "metadata": {},
   "outputs": [],
   "source": [
    "# Función para corregir las palabras\n",
    "\n",
    "spell = SpellChecker(language='es', distance=1)\n",
    "\n",
    "def correcting_words(df):\n",
    "    misspelled = spell.unknown(df.split())\n",
    "    return \" \".join(filter(None,[spell.correction(word) if word in misspelled else word for word in df.split()]))"
   ]
  },
  {
   "cell_type": "code",
   "execution_count": 26,
   "metadata": {},
   "outputs": [],
   "source": [
    "def remove_eur(df):\n",
    "    wlist = ['{eur}' if ('€' in word) | ('euro' in word) | ('$' in word) else word for word in df.split()]\n",
    "    return \" \".join(wlist)"
   ]
  },
  {
   "cell_type": "code",
   "execution_count": 27,
   "metadata": {},
   "outputs": [],
   "source": [
    "# Put it all together\n",
    "\n",
    "def transform_tweets(df, mode='lemma'):\n",
    "    \n",
    "    df = remove_links(df)\n",
    "    df = remove_punctuation_space(df)\n",
    "    df = remove_mentions(df)    \n",
    "    df = remove_hashtags(df)\n",
    "    df = remove_eur(df)\n",
    "    df = transform_icons(df)\n",
    "    df = sep_emojis(df)\n",
    "   # df = transform_emoji(df)\n",
    "    df = normalize_laughts(df)\n",
    "    df = remove_punctuation(df)\n",
    "    df = remove_repeated_vocals(df)\n",
    "    df = correcting_words(df)\n",
    "    df = fix_abbr(df)\n",
    "    df = remove_stopwords(df)\n",
    "    if mode=='lemma':\n",
    "        df = lemmatizer(df)\n",
    "    elif mode=='stem':\n",
    "        df = stem(df)\n",
    "    else:\n",
    "        raise TypeError('Invalid mode. Must be \"lemma\" or \"stem\"') \n",
    "    df = remove_stopwords(df)                    \n",
    "    return df"
   ]
  },
  {
   "attachments": {},
   "cell_type": "markdown",
   "metadata": {},
   "source": [
    "El stemizado es mejor para usar en ingles, es mejor el lemetizado para lenguas romance"
   ]
  },
  {
   "cell_type": "code",
   "execution_count": 46,
   "metadata": {},
   "outputs": [],
   "source": [
    "text = 'hola te amo santi hermoso de mi corazon'"
   ]
  },
  {
   "cell_type": "code",
   "execution_count": 47,
   "metadata": {},
   "outputs": [],
   "source": [
    "text_p = transform_tweets(text, mode='lemma')"
   ]
  },
  {
   "cell_type": "code",
   "execution_count": 48,
   "metadata": {},
   "outputs": [
    {
     "data": {
      "text/plain": [
       "'hola amo santi hermoso corazon'"
      ]
     },
     "execution_count": 48,
     "metadata": {},
     "output_type": "execute_result"
    }
   ],
   "source": [
    "text_p"
   ]
  },
  {
   "cell_type": "code",
   "execution_count": 28,
   "metadata": {},
   "outputs": [
    {
     "name": "stdout",
     "output_type": "stream",
     "text": [
      "Tweet original:\n",
      " Nos encanta hacerte feliz @rubndu\n",
      "Tweet lematizado:\n",
      " encantar hacer tú feliz\n",
      "Tweet stemizado:\n",
      " encant hacert feliz\n"
     ]
    }
   ],
   "source": [
    "print('Tweet original:\\n', df_initial.tweet[50:51].iloc[0])\n",
    "print('Tweet lematizado:\\n', df_initial.tweet[50:51].apply(transform_tweets, mode='lemma').iloc[0])\n",
    "print('Tweet stemizado:\\n',df_initial.tweet[50:51].apply(transform_tweets, mode='stem').iloc[0])"
   ]
  },
  {
   "cell_type": "code",
   "execution_count": 29,
   "metadata": {},
   "outputs": [
    {
     "name": "stdout",
     "output_type": "stream",
     "text": [
      "CPU times: total: 45.4 s\n",
      "Wall time: 48.6 s\n"
     ]
    }
   ],
   "source": [
    "%%time\n",
    "# Aplicamos\n",
    "df_initial['tweet_'] = df_initial.tweet.apply(transform_tweets, mode='lemma')\n",
    "df_final['tweet_'] = df_final.tweet.apply(transform_tweets, mode='lemma')"
   ]
  },
  {
   "attachments": {},
   "cell_type": "markdown",
   "metadata": {},
   "source": [
    "# Modelos "
   ]
  },
  {
   "cell_type": "code",
   "execution_count": 30,
   "metadata": {},
   "outputs": [],
   "source": [
    "df_all = pd.concat([df_initial,df_final])"
   ]
  },
  {
   "cell_type": "code",
   "execution_count": 31,
   "metadata": {},
   "outputs": [],
   "source": [
    "df_all.to_csv('df_all.csv')"
   ]
  },
  {
   "cell_type": "code",
   "execution_count": 40,
   "metadata": {},
   "outputs": [
    {
     "data": {
      "text/html": [
       "<div>\n",
       "<style scoped>\n",
       "    .dataframe tbody tr th:only-of-type {\n",
       "        vertical-align: middle;\n",
       "    }\n",
       "\n",
       "    .dataframe tbody tr th {\n",
       "        vertical-align: top;\n",
       "    }\n",
       "\n",
       "    .dataframe thead th {\n",
       "        text-align: right;\n",
       "    }\n",
       "</style>\n",
       "<table border=\"1\" class=\"dataframe\">\n",
       "  <thead>\n",
       "    <tr style=\"text-align: right;\">\n",
       "      <th></th>\n",
       "      <th>id</th>\n",
       "      <th>tweet</th>\n",
       "      <th>classification</th>\n",
       "      <th>tweet_</th>\n",
       "    </tr>\n",
       "  </thead>\n",
       "  <tbody>\n",
       "    <tr>\n",
       "      <th>0</th>\n",
       "      <td>809927403615256576</td>\n",
       "      <td>En definitiva! Me quedé sin campo para ir a Ta...</td>\n",
       "      <td>0</td>\n",
       "      <td>definitivo quedar campo ir mentalizado hasta q...</td>\n",
       "    </tr>\n",
       "    <tr>\n",
       "      <th>1</th>\n",
       "      <td>796040775364710400</td>\n",
       "      <td>@dianalaa32 Es una escena de uno de los docume...</td>\n",
       "      <td>2</td>\n",
       "      <td>escena documental respetado naturaleza planet ...</td>\n",
       "    </tr>\n",
       "    <tr>\n",
       "      <th>2</th>\n",
       "      <td>802912779854352384</td>\n",
       "      <td>Qué feo es tener que terminar con alguien; y m...</td>\n",
       "      <td>0</td>\n",
       "      <td>feo tener terminar alguien dos persona aún ama...</td>\n",
       "    </tr>\n",
       "    <tr>\n",
       "      <th>3</th>\n",
       "      <td>800835505717972992</td>\n",
       "      <td>Oído en McDonalds \"el mejor mannequin challeng...</td>\n",
       "      <td>0</td>\n",
       "      <td>oer mcdonalds mejor challenge visto hasta ahor...</td>\n",
       "    </tr>\n",
       "    <tr>\n",
       "      <th>4</th>\n",
       "      <td>791640101751230464</td>\n",
       "      <td>Tengo que aceptar que me esta hundiendo el con...</td>\n",
       "      <td>1</td>\n",
       "      <td>aceptar hundir consumismo nuevo pro gorro hero...</td>\n",
       "    </tr>\n",
       "  </tbody>\n",
       "</table>\n",
       "</div>"
      ],
      "text/plain": [
       "                   id                                              tweet  \\\n",
       "0  809927403615256576  En definitiva! Me quedé sin campo para ir a Ta...   \n",
       "1  796040775364710400  @dianalaa32 Es una escena de uno de los docume...   \n",
       "2  802912779854352384  Qué feo es tener que terminar con alguien; y m...   \n",
       "3  800835505717972992  Oído en McDonalds \"el mejor mannequin challeng...   \n",
       "4  791640101751230464  Tengo que aceptar que me esta hundiendo el con...   \n",
       "\n",
       "   classification                                             tweet_  \n",
       "0               0  definitivo quedar campo ir mentalizado hasta q...  \n",
       "1               2  escena documental respetado naturaleza planet ...  \n",
       "2               0  feo tener terminar alguien dos persona aún ama...  \n",
       "3               0  oer mcdonalds mejor challenge visto hasta ahor...  \n",
       "4               1  aceptar hundir consumismo nuevo pro gorro hero...  "
      ]
     },
     "execution_count": 40,
     "metadata": {},
     "output_type": "execute_result"
    }
   ],
   "source": [
    "df_all.head()"
   ]
  },
  {
   "cell_type": "code",
   "execution_count": 32,
   "metadata": {},
   "outputs": [],
   "source": [
    "X = df_all[['tweet_']]"
   ]
  },
  {
   "cell_type": "code",
   "execution_count": 33,
   "metadata": {},
   "outputs": [],
   "source": [
    "from transformers import RobertaTokenizer, RobertaModel\n",
    "import torch.nn as nn\n",
    "\n",
    "import torch"
   ]
  },
  {
   "cell_type": "code",
   "execution_count": 34,
   "metadata": {},
   "outputs": [
    {
     "name": "stderr",
     "output_type": "stream",
     "text": [
      "Some weights of the model checkpoint at roberta-base were not used when initializing RobertaModel: ['lm_head.dense.weight', 'lm_head.bias', 'lm_head.layer_norm.bias', 'lm_head.decoder.weight', 'lm_head.layer_norm.weight', 'lm_head.dense.bias']\n",
      "- This IS expected if you are initializing RobertaModel from the checkpoint of a model trained on another task or with another architecture (e.g. initializing a BertForSequenceClassification model from a BertForPreTraining model).\n",
      "- This IS NOT expected if you are initializing RobertaModel from the checkpoint of a model that you expect to be exactly identical (initializing a BertForSequenceClassification model from a BertForSequenceClassification model).\n"
     ]
    }
   ],
   "source": [
    "tokenizer = RobertaTokenizer.from_pretrained('roberta-base')\n",
    "model = RobertaModel.from_pretrained('roberta-base')"
   ]
  },
  {
   "cell_type": "code",
   "execution_count": 35,
   "metadata": {},
   "outputs": [],
   "source": [
    "torch.save(tokenizer,'tokenizador.pt')\n",
    "torch.save(model,'modelo_t.pt')"
   ]
  },
  {
   "cell_type": "code",
   "execution_count": 36,
   "metadata": {},
   "outputs": [],
   "source": [
    "tokenizador = torch.load('tokenizador.pt')\n",
    "modelo_t = torch.load('modelo_t.pt')"
   ]
  },
  {
   "cell_type": "code",
   "execution_count": 37,
   "metadata": {},
   "outputs": [],
   "source": [
    "def embed_text(text):\n",
    "    # Tokeniza el texto\n",
    "    input_ids = torch.tensor([tokenizador.encode(text, add_special_tokens=True,max_length=250,truncation=True)])\n",
    "    # Genera los embeddings\n",
    "    with torch.no_grad():\n",
    "        output = modelo_t(input_ids)\n",
    "        embeddings = output[0][:, 0, :].numpy()\n",
    "    return embeddings"
   ]
  },
  {
   "cell_type": "code",
   "execution_count": 38,
   "metadata": {},
   "outputs": [],
   "source": [
    "X['embedding'] = X.tweet_.apply(embed_text) "
   ]
  },
  {
   "cell_type": "code",
   "execution_count": 39,
   "metadata": {},
   "outputs": [
    {
     "data": {
      "text/html": [
       "<div>\n",
       "<style scoped>\n",
       "    .dataframe tbody tr th:only-of-type {\n",
       "        vertical-align: middle;\n",
       "    }\n",
       "\n",
       "    .dataframe tbody tr th {\n",
       "        vertical-align: top;\n",
       "    }\n",
       "\n",
       "    .dataframe thead th {\n",
       "        text-align: right;\n",
       "    }\n",
       "</style>\n",
       "<table border=\"1\" class=\"dataframe\">\n",
       "  <thead>\n",
       "    <tr style=\"text-align: right;\">\n",
       "      <th></th>\n",
       "      <th>tweet_</th>\n",
       "      <th>embedding</th>\n",
       "    </tr>\n",
       "  </thead>\n",
       "  <tbody>\n",
       "    <tr>\n",
       "      <th>0</th>\n",
       "      <td>definitivo quedar campo ir mentalizado hasta q...</td>\n",
       "      <td>[[-0.03869699, 0.056530945, 0.014290894, -0.09...</td>\n",
       "    </tr>\n",
       "    <tr>\n",
       "      <th>1</th>\n",
       "      <td>escena documental respetado naturaleza planet ...</td>\n",
       "      <td>[[-0.033285134, 0.036981627, 0.042415507, -0.1...</td>\n",
       "    </tr>\n",
       "    <tr>\n",
       "      <th>2</th>\n",
       "      <td>feo tener terminar alguien dos persona aún ama...</td>\n",
       "      <td>[[-0.044214092, 0.06212446, 0.017362, -0.11375...</td>\n",
       "    </tr>\n",
       "    <tr>\n",
       "      <th>3</th>\n",
       "      <td>oer mcdonalds mejor challenge visto hasta ahor...</td>\n",
       "      <td>[[-0.057279296, 0.051750254, 0.031811405, -0.0...</td>\n",
       "    </tr>\n",
       "    <tr>\n",
       "      <th>4</th>\n",
       "      <td>aceptar hundir consumismo nuevo pro gorro hero...</td>\n",
       "      <td>[[-0.037349813, 0.06989633, 0.008028469, -0.06...</td>\n",
       "    </tr>\n",
       "    <tr>\n",
       "      <th>...</th>\n",
       "      <td>...</td>\n",
       "      <td>...</td>\n",
       "    </tr>\n",
       "    <tr>\n",
       "      <th>7259</th>\n",
       "      <td>bueno no modesto periodista calificar</td>\n",
       "      <td>[[-0.03622829, 0.0675046, 0.0111574745, -0.104...</td>\n",
       "    </tr>\n",
       "    <tr>\n",
       "      <th>7260</th>\n",
       "      <td>tu medio manzana + comio</td>\n",
       "      <td>[[-0.055846073, 0.053929858, -0.0015685465, -0...</td>\n",
       "    </tr>\n",
       "    <tr>\n",
       "      <th>7261</th>\n",
       "      <td>hablar por aca yo tambien extraño</td>\n",
       "      <td>[[-0.054296635, 0.056503676, -0.001965506, -0....</td>\n",
       "    </tr>\n",
       "    <tr>\n",
       "      <th>7262</th>\n",
       "      <td>encantar muchacho pero previo aburrar</td>\n",
       "      <td>[[-0.04686512, 0.07875471, 0.0058485344, -0.11...</td>\n",
       "    </tr>\n",
       "    <tr>\n",
       "      <th>7263</th>\n",
       "      <td>gracia pero arregle gracias por ofrecertar</td>\n",
       "      <td>[[-0.03590753, 0.06236267, 0.013893712, -0.127...</td>\n",
       "    </tr>\n",
       "  </tbody>\n",
       "</table>\n",
       "<p>14507 rows × 2 columns</p>\n",
       "</div>"
      ],
      "text/plain": [
       "                                                 tweet_  \\\n",
       "0     definitivo quedar campo ir mentalizado hasta q...   \n",
       "1     escena documental respetado naturaleza planet ...   \n",
       "2     feo tener terminar alguien dos persona aún ama...   \n",
       "3     oer mcdonalds mejor challenge visto hasta ahor...   \n",
       "4     aceptar hundir consumismo nuevo pro gorro hero...   \n",
       "...                                                 ...   \n",
       "7259              bueno no modesto periodista calificar   \n",
       "7260                           tu medio manzana + comio   \n",
       "7261                  hablar por aca yo tambien extraño   \n",
       "7262              encantar muchacho pero previo aburrar   \n",
       "7263         gracia pero arregle gracias por ofrecertar   \n",
       "\n",
       "                                              embedding  \n",
       "0     [[-0.03869699, 0.056530945, 0.014290894, -0.09...  \n",
       "1     [[-0.033285134, 0.036981627, 0.042415507, -0.1...  \n",
       "2     [[-0.044214092, 0.06212446, 0.017362, -0.11375...  \n",
       "3     [[-0.057279296, 0.051750254, 0.031811405, -0.0...  \n",
       "4     [[-0.037349813, 0.06989633, 0.008028469, -0.06...  \n",
       "...                                                 ...  \n",
       "7259  [[-0.03622829, 0.0675046, 0.0111574745, -0.104...  \n",
       "7260  [[-0.055846073, 0.053929858, -0.0015685465, -0...  \n",
       "7261  [[-0.054296635, 0.056503676, -0.001965506, -0....  \n",
       "7262  [[-0.04686512, 0.07875471, 0.0058485344, -0.11...  \n",
       "7263  [[-0.03590753, 0.06236267, 0.013893712, -0.127...  \n",
       "\n",
       "[14507 rows x 2 columns]"
      ]
     },
     "execution_count": 39,
     "metadata": {},
     "output_type": "execute_result"
    }
   ],
   "source": [
    "X"
   ]
  },
  {
   "cell_type": "code",
   "execution_count": 37,
   "metadata": {},
   "outputs": [],
   "source": [
    "embedding_matrix = np.vstack(X['embedding'])\n",
    "\n",
    "# Crea un nuevo dataframe con una columna separada para cada valor del embedding\n",
    "new_df = pd.DataFrame(embedding_matrix, columns=['embedding_{}'.format(i) for i in range(embedding_matrix.shape[1])])\n"
   ]
  },
  {
   "cell_type": "code",
   "execution_count": 38,
   "metadata": {},
   "outputs": [
    {
     "data": {
      "text/plain": [
       "(14507, 768)"
      ]
     },
     "execution_count": 38,
     "metadata": {},
     "output_type": "execute_result"
    }
   ],
   "source": [
    "embedding_matrix.shape"
   ]
  },
  {
   "cell_type": "code",
   "execution_count": 39,
   "metadata": {},
   "outputs": [
    {
     "data": {
      "text/html": [
       "<div>\n",
       "<style scoped>\n",
       "    .dataframe tbody tr th:only-of-type {\n",
       "        vertical-align: middle;\n",
       "    }\n",
       "\n",
       "    .dataframe tbody tr th {\n",
       "        vertical-align: top;\n",
       "    }\n",
       "\n",
       "    .dataframe thead th {\n",
       "        text-align: right;\n",
       "    }\n",
       "</style>\n",
       "<table border=\"1\" class=\"dataframe\">\n",
       "  <thead>\n",
       "    <tr style=\"text-align: right;\">\n",
       "      <th></th>\n",
       "      <th>embedding_0</th>\n",
       "      <th>embedding_1</th>\n",
       "      <th>embedding_2</th>\n",
       "      <th>embedding_3</th>\n",
       "      <th>embedding_4</th>\n",
       "      <th>embedding_5</th>\n",
       "      <th>embedding_6</th>\n",
       "      <th>embedding_7</th>\n",
       "      <th>embedding_8</th>\n",
       "      <th>embedding_9</th>\n",
       "      <th>...</th>\n",
       "      <th>embedding_758</th>\n",
       "      <th>embedding_759</th>\n",
       "      <th>embedding_760</th>\n",
       "      <th>embedding_761</th>\n",
       "      <th>embedding_762</th>\n",
       "      <th>embedding_763</th>\n",
       "      <th>embedding_764</th>\n",
       "      <th>embedding_765</th>\n",
       "      <th>embedding_766</th>\n",
       "      <th>embedding_767</th>\n",
       "    </tr>\n",
       "  </thead>\n",
       "  <tbody>\n",
       "    <tr>\n",
       "      <th>0</th>\n",
       "      <td>-0.038697</td>\n",
       "      <td>0.056531</td>\n",
       "      <td>0.014291</td>\n",
       "      <td>-0.090218</td>\n",
       "      <td>0.044688</td>\n",
       "      <td>-0.096564</td>\n",
       "      <td>-0.031730</td>\n",
       "      <td>0.003258</td>\n",
       "      <td>0.095233</td>\n",
       "      <td>-0.087979</td>\n",
       "      <td>...</td>\n",
       "      <td>-0.002202</td>\n",
       "      <td>0.002461</td>\n",
       "      <td>-0.076560</td>\n",
       "      <td>-0.107523</td>\n",
       "      <td>-0.000543</td>\n",
       "      <td>0.112858</td>\n",
       "      <td>0.059542</td>\n",
       "      <td>-0.040384</td>\n",
       "      <td>-0.026678</td>\n",
       "      <td>-0.046287</td>\n",
       "    </tr>\n",
       "    <tr>\n",
       "      <th>1</th>\n",
       "      <td>-0.033285</td>\n",
       "      <td>0.036982</td>\n",
       "      <td>0.042416</td>\n",
       "      <td>-0.101813</td>\n",
       "      <td>0.044333</td>\n",
       "      <td>-0.100968</td>\n",
       "      <td>-0.065766</td>\n",
       "      <td>0.014792</td>\n",
       "      <td>0.049005</td>\n",
       "      <td>-0.094288</td>\n",
       "      <td>...</td>\n",
       "      <td>0.030529</td>\n",
       "      <td>-0.007058</td>\n",
       "      <td>-0.068319</td>\n",
       "      <td>-0.139354</td>\n",
       "      <td>-0.054758</td>\n",
       "      <td>0.126866</td>\n",
       "      <td>0.074703</td>\n",
       "      <td>-0.120616</td>\n",
       "      <td>-0.025233</td>\n",
       "      <td>-0.011219</td>\n",
       "    </tr>\n",
       "    <tr>\n",
       "      <th>2</th>\n",
       "      <td>-0.044214</td>\n",
       "      <td>0.062124</td>\n",
       "      <td>0.017362</td>\n",
       "      <td>-0.113754</td>\n",
       "      <td>0.043926</td>\n",
       "      <td>-0.098733</td>\n",
       "      <td>-0.070465</td>\n",
       "      <td>0.004263</td>\n",
       "      <td>0.065432</td>\n",
       "      <td>-0.090390</td>\n",
       "      <td>...</td>\n",
       "      <td>-0.009436</td>\n",
       "      <td>-0.013152</td>\n",
       "      <td>-0.068776</td>\n",
       "      <td>-0.110305</td>\n",
       "      <td>-0.043520</td>\n",
       "      <td>0.110979</td>\n",
       "      <td>0.073648</td>\n",
       "      <td>-0.063428</td>\n",
       "      <td>-0.045474</td>\n",
       "      <td>-0.038345</td>\n",
       "    </tr>\n",
       "    <tr>\n",
       "      <th>3</th>\n",
       "      <td>-0.057279</td>\n",
       "      <td>0.051750</td>\n",
       "      <td>0.031811</td>\n",
       "      <td>-0.096803</td>\n",
       "      <td>0.046696</td>\n",
       "      <td>-0.093878</td>\n",
       "      <td>-0.061002</td>\n",
       "      <td>-0.013117</td>\n",
       "      <td>0.078209</td>\n",
       "      <td>-0.096927</td>\n",
       "      <td>...</td>\n",
       "      <td>-0.007264</td>\n",
       "      <td>-0.009776</td>\n",
       "      <td>-0.077911</td>\n",
       "      <td>-0.120516</td>\n",
       "      <td>-0.057491</td>\n",
       "      <td>0.097555</td>\n",
       "      <td>0.077052</td>\n",
       "      <td>-0.095396</td>\n",
       "      <td>-0.055069</td>\n",
       "      <td>-0.053286</td>\n",
       "    </tr>\n",
       "    <tr>\n",
       "      <th>4</th>\n",
       "      <td>-0.037350</td>\n",
       "      <td>0.069896</td>\n",
       "      <td>0.008028</td>\n",
       "      <td>-0.067640</td>\n",
       "      <td>0.027968</td>\n",
       "      <td>-0.117158</td>\n",
       "      <td>-0.041774</td>\n",
       "      <td>-0.014320</td>\n",
       "      <td>0.077868</td>\n",
       "      <td>-0.080117</td>\n",
       "      <td>...</td>\n",
       "      <td>0.024209</td>\n",
       "      <td>-0.008687</td>\n",
       "      <td>-0.086265</td>\n",
       "      <td>-0.102610</td>\n",
       "      <td>0.006147</td>\n",
       "      <td>0.114367</td>\n",
       "      <td>0.091128</td>\n",
       "      <td>-0.098419</td>\n",
       "      <td>-0.048066</td>\n",
       "      <td>0.018384</td>\n",
       "    </tr>\n",
       "  </tbody>\n",
       "</table>\n",
       "<p>5 rows × 768 columns</p>\n",
       "</div>"
      ],
      "text/plain": [
       "   embedding_0  embedding_1  embedding_2  embedding_3  embedding_4  \\\n",
       "0    -0.038697     0.056531     0.014291    -0.090218     0.044688   \n",
       "1    -0.033285     0.036982     0.042416    -0.101813     0.044333   \n",
       "2    -0.044214     0.062124     0.017362    -0.113754     0.043926   \n",
       "3    -0.057279     0.051750     0.031811    -0.096803     0.046696   \n",
       "4    -0.037350     0.069896     0.008028    -0.067640     0.027968   \n",
       "\n",
       "   embedding_5  embedding_6  embedding_7  embedding_8  embedding_9  ...  \\\n",
       "0    -0.096564    -0.031730     0.003258     0.095233    -0.087979  ...   \n",
       "1    -0.100968    -0.065766     0.014792     0.049005    -0.094288  ...   \n",
       "2    -0.098733    -0.070465     0.004263     0.065432    -0.090390  ...   \n",
       "3    -0.093878    -0.061002    -0.013117     0.078209    -0.096927  ...   \n",
       "4    -0.117158    -0.041774    -0.014320     0.077868    -0.080117  ...   \n",
       "\n",
       "   embedding_758  embedding_759  embedding_760  embedding_761  embedding_762  \\\n",
       "0      -0.002202       0.002461      -0.076560      -0.107523      -0.000543   \n",
       "1       0.030529      -0.007058      -0.068319      -0.139354      -0.054758   \n",
       "2      -0.009436      -0.013152      -0.068776      -0.110305      -0.043520   \n",
       "3      -0.007264      -0.009776      -0.077911      -0.120516      -0.057491   \n",
       "4       0.024209      -0.008687      -0.086265      -0.102610       0.006147   \n",
       "\n",
       "   embedding_763  embedding_764  embedding_765  embedding_766  embedding_767  \n",
       "0       0.112858       0.059542      -0.040384      -0.026678      -0.046287  \n",
       "1       0.126866       0.074703      -0.120616      -0.025233      -0.011219  \n",
       "2       0.110979       0.073648      -0.063428      -0.045474      -0.038345  \n",
       "3       0.097555       0.077052      -0.095396      -0.055069      -0.053286  \n",
       "4       0.114367       0.091128      -0.098419      -0.048066       0.018384  \n",
       "\n",
       "[5 rows x 768 columns]"
      ]
     },
     "execution_count": 39,
     "metadata": {},
     "output_type": "execute_result"
    }
   ],
   "source": [
    "new_df.head()"
   ]
  },
  {
   "attachments": {},
   "cell_type": "markdown",
   "metadata": {},
   "source": [
    "# Exportando el archivo"
   ]
  },
  {
   "cell_type": "code",
   "execution_count": 40,
   "metadata": {},
   "outputs": [],
   "source": [
    "new_df.to_csv('Embedding.csv', index = False)"
   ]
  },
  {
   "attachments": {},
   "cell_type": "markdown",
   "metadata": {},
   "source": [
    "# Aquí van las reducciones de dimensionalidad "
   ]
  },
  {
   "cell_type": "code",
   "execution_count": 41,
   "metadata": {},
   "outputs": [
    {
     "data": {
      "text/html": [
       "<div>\n",
       "<style scoped>\n",
       "    .dataframe tbody tr th:only-of-type {\n",
       "        vertical-align: middle;\n",
       "    }\n",
       "\n",
       "    .dataframe tbody tr th {\n",
       "        vertical-align: top;\n",
       "    }\n",
       "\n",
       "    .dataframe thead th {\n",
       "        text-align: right;\n",
       "    }\n",
       "</style>\n",
       "<table border=\"1\" class=\"dataframe\">\n",
       "  <thead>\n",
       "    <tr style=\"text-align: right;\">\n",
       "      <th></th>\n",
       "      <th>embedding_0</th>\n",
       "      <th>embedding_1</th>\n",
       "      <th>embedding_2</th>\n",
       "      <th>embedding_3</th>\n",
       "      <th>embedding_4</th>\n",
       "      <th>embedding_5</th>\n",
       "      <th>embedding_6</th>\n",
       "      <th>embedding_7</th>\n",
       "      <th>embedding_8</th>\n",
       "      <th>embedding_9</th>\n",
       "      <th>...</th>\n",
       "      <th>embedding_758</th>\n",
       "      <th>embedding_759</th>\n",
       "      <th>embedding_760</th>\n",
       "      <th>embedding_761</th>\n",
       "      <th>embedding_762</th>\n",
       "      <th>embedding_763</th>\n",
       "      <th>embedding_764</th>\n",
       "      <th>embedding_765</th>\n",
       "      <th>embedding_766</th>\n",
       "      <th>embedding_767</th>\n",
       "    </tr>\n",
       "  </thead>\n",
       "  <tbody>\n",
       "    <tr>\n",
       "      <th>0</th>\n",
       "      <td>-0.038697</td>\n",
       "      <td>0.056531</td>\n",
       "      <td>0.014291</td>\n",
       "      <td>-0.090218</td>\n",
       "      <td>0.044688</td>\n",
       "      <td>-0.096564</td>\n",
       "      <td>-0.031730</td>\n",
       "      <td>0.003258</td>\n",
       "      <td>0.095233</td>\n",
       "      <td>-0.087979</td>\n",
       "      <td>...</td>\n",
       "      <td>-0.002202</td>\n",
       "      <td>0.002461</td>\n",
       "      <td>-0.076560</td>\n",
       "      <td>-0.107523</td>\n",
       "      <td>-0.000543</td>\n",
       "      <td>0.112858</td>\n",
       "      <td>0.059542</td>\n",
       "      <td>-0.040384</td>\n",
       "      <td>-0.026678</td>\n",
       "      <td>-0.046287</td>\n",
       "    </tr>\n",
       "    <tr>\n",
       "      <th>1</th>\n",
       "      <td>-0.033285</td>\n",
       "      <td>0.036982</td>\n",
       "      <td>0.042416</td>\n",
       "      <td>-0.101813</td>\n",
       "      <td>0.044333</td>\n",
       "      <td>-0.100968</td>\n",
       "      <td>-0.065766</td>\n",
       "      <td>0.014792</td>\n",
       "      <td>0.049005</td>\n",
       "      <td>-0.094288</td>\n",
       "      <td>...</td>\n",
       "      <td>0.030529</td>\n",
       "      <td>-0.007058</td>\n",
       "      <td>-0.068319</td>\n",
       "      <td>-0.139354</td>\n",
       "      <td>-0.054758</td>\n",
       "      <td>0.126866</td>\n",
       "      <td>0.074703</td>\n",
       "      <td>-0.120616</td>\n",
       "      <td>-0.025233</td>\n",
       "      <td>-0.011219</td>\n",
       "    </tr>\n",
       "    <tr>\n",
       "      <th>2</th>\n",
       "      <td>-0.044214</td>\n",
       "      <td>0.062124</td>\n",
       "      <td>0.017362</td>\n",
       "      <td>-0.113754</td>\n",
       "      <td>0.043926</td>\n",
       "      <td>-0.098733</td>\n",
       "      <td>-0.070465</td>\n",
       "      <td>0.004263</td>\n",
       "      <td>0.065432</td>\n",
       "      <td>-0.090390</td>\n",
       "      <td>...</td>\n",
       "      <td>-0.009436</td>\n",
       "      <td>-0.013152</td>\n",
       "      <td>-0.068776</td>\n",
       "      <td>-0.110305</td>\n",
       "      <td>-0.043520</td>\n",
       "      <td>0.110979</td>\n",
       "      <td>0.073648</td>\n",
       "      <td>-0.063428</td>\n",
       "      <td>-0.045474</td>\n",
       "      <td>-0.038345</td>\n",
       "    </tr>\n",
       "    <tr>\n",
       "      <th>3</th>\n",
       "      <td>-0.057279</td>\n",
       "      <td>0.051750</td>\n",
       "      <td>0.031811</td>\n",
       "      <td>-0.096803</td>\n",
       "      <td>0.046696</td>\n",
       "      <td>-0.093878</td>\n",
       "      <td>-0.061002</td>\n",
       "      <td>-0.013117</td>\n",
       "      <td>0.078209</td>\n",
       "      <td>-0.096927</td>\n",
       "      <td>...</td>\n",
       "      <td>-0.007264</td>\n",
       "      <td>-0.009776</td>\n",
       "      <td>-0.077911</td>\n",
       "      <td>-0.120516</td>\n",
       "      <td>-0.057491</td>\n",
       "      <td>0.097555</td>\n",
       "      <td>0.077052</td>\n",
       "      <td>-0.095396</td>\n",
       "      <td>-0.055069</td>\n",
       "      <td>-0.053286</td>\n",
       "    </tr>\n",
       "    <tr>\n",
       "      <th>4</th>\n",
       "      <td>-0.037350</td>\n",
       "      <td>0.069896</td>\n",
       "      <td>0.008028</td>\n",
       "      <td>-0.067640</td>\n",
       "      <td>0.027968</td>\n",
       "      <td>-0.117158</td>\n",
       "      <td>-0.041774</td>\n",
       "      <td>-0.014320</td>\n",
       "      <td>0.077868</td>\n",
       "      <td>-0.080117</td>\n",
       "      <td>...</td>\n",
       "      <td>0.024209</td>\n",
       "      <td>-0.008687</td>\n",
       "      <td>-0.086265</td>\n",
       "      <td>-0.102610</td>\n",
       "      <td>0.006147</td>\n",
       "      <td>0.114367</td>\n",
       "      <td>0.091128</td>\n",
       "      <td>-0.098419</td>\n",
       "      <td>-0.048066</td>\n",
       "      <td>0.018384</td>\n",
       "    </tr>\n",
       "  </tbody>\n",
       "</table>\n",
       "<p>5 rows × 768 columns</p>\n",
       "</div>"
      ],
      "text/plain": [
       "   embedding_0  embedding_1  embedding_2  embedding_3  embedding_4  \\\n",
       "0    -0.038697     0.056531     0.014291    -0.090218     0.044688   \n",
       "1    -0.033285     0.036982     0.042416    -0.101813     0.044333   \n",
       "2    -0.044214     0.062124     0.017362    -0.113754     0.043926   \n",
       "3    -0.057279     0.051750     0.031811    -0.096803     0.046696   \n",
       "4    -0.037350     0.069896     0.008028    -0.067640     0.027968   \n",
       "\n",
       "   embedding_5  embedding_6  embedding_7  embedding_8  embedding_9  ...  \\\n",
       "0    -0.096564    -0.031730     0.003258     0.095233    -0.087979  ...   \n",
       "1    -0.100968    -0.065766     0.014792     0.049005    -0.094288  ...   \n",
       "2    -0.098733    -0.070465     0.004263     0.065432    -0.090390  ...   \n",
       "3    -0.093878    -0.061002    -0.013117     0.078209    -0.096927  ...   \n",
       "4    -0.117158    -0.041774    -0.014320     0.077868    -0.080117  ...   \n",
       "\n",
       "   embedding_758  embedding_759  embedding_760  embedding_761  embedding_762  \\\n",
       "0      -0.002202       0.002461      -0.076560      -0.107523      -0.000543   \n",
       "1       0.030529      -0.007058      -0.068319      -0.139354      -0.054758   \n",
       "2      -0.009436      -0.013152      -0.068776      -0.110305      -0.043520   \n",
       "3      -0.007264      -0.009776      -0.077911      -0.120516      -0.057491   \n",
       "4       0.024209      -0.008687      -0.086265      -0.102610       0.006147   \n",
       "\n",
       "   embedding_763  embedding_764  embedding_765  embedding_766  embedding_767  \n",
       "0       0.112858       0.059542      -0.040384      -0.026678      -0.046287  \n",
       "1       0.126866       0.074703      -0.120616      -0.025233      -0.011219  \n",
       "2       0.110979       0.073648      -0.063428      -0.045474      -0.038345  \n",
       "3       0.097555       0.077052      -0.095396      -0.055069      -0.053286  \n",
       "4       0.114367       0.091128      -0.098419      -0.048066       0.018384  \n",
       "\n",
       "[5 rows x 768 columns]"
      ]
     },
     "execution_count": 41,
     "metadata": {},
     "output_type": "execute_result"
    }
   ],
   "source": [
    "df_nuevo = pd.read_csv('Embedding.csv')\n",
    "df_nuevo.head()"
   ]
  },
  {
   "cell_type": "code",
   "execution_count": null,
   "metadata": {},
   "outputs": [],
   "source": []
  },
  {
   "cell_type": "code",
   "execution_count": null,
   "metadata": {},
   "outputs": [],
   "source": []
  },
  {
   "cell_type": "code",
   "execution_count": null,
   "metadata": {},
   "outputs": [],
   "source": []
  },
  {
   "cell_type": "code",
   "execution_count": null,
   "metadata": {},
   "outputs": [],
   "source": []
  },
  {
   "cell_type": "code",
   "execution_count": null,
   "metadata": {},
   "outputs": [],
   "source": []
  },
  {
   "cell_type": "code",
   "execution_count": null,
   "metadata": {},
   "outputs": [],
   "source": []
  }
 ],
 "metadata": {
  "kernelspec": {
   "display_name": "Python 3.9.13 64-bit (microsoft store)",
   "language": "python",
   "name": "python3"
  },
  "language_info": {
   "codemirror_mode": {
    "name": "ipython",
    "version": 3
   },
   "file_extension": ".py",
   "mimetype": "text/x-python",
   "name": "python",
   "nbconvert_exporter": "python",
   "pygments_lexer": "ipython3",
   "version": "3.11.3"
  },
  "orig_nbformat": 4,
  "vscode": {
   "interpreter": {
    "hash": "58f55ff87f7cda7e242f92c88625c5afa1638faf099996a7cff05549d0eae7ed"
   }
  }
 },
 "nbformat": 4,
 "nbformat_minor": 2
}
